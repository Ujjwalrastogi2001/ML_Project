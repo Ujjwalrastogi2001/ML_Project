{
 "cells": [
  {
   "cell_type": "code",
   "execution_count": 1,
   "metadata": {},
   "outputs": [],
   "source": [
    "from tokenize import Special\n",
    "import zipfile\n",
    "import matplotlib.pyplot as plt\n",
    "import seaborn as sn\n",
    "import pandas as pd\n",
    "import numpy as np\n",
    "import math\n",
    "import random\n",
    "import scipy\n",
    "import seaborn as sns\n",
    "import sklearn.manifold\n",
    "from math import floor\n",
    "from sklearn.tree import DecisionTreeClassifier\n",
    "from sklearn.metrics import accuracy_score\n",
    "from sklearn.preprocessing import StandardScaler\n",
    "\n",
    "\n",
    "from sklearn.ensemble import RandomForestClassifier\n",
    "from sklearn.multiclass import OneVsRestClassifier\n",
    "from sklearn.linear_model import LogisticRegression\n",
    "\n"
   ]
  },
  {
   "cell_type": "code",
   "execution_count": 2,
   "metadata": {},
   "outputs": [],
   "source": [
    "learn_data=pd.read_csv('learning2.csv')\n"
   ]
  },
  {
   "cell_type": "code",
   "execution_count": 3,
   "metadata": {},
   "outputs": [
    {
     "data": {
      "text/plain": [
       "(2756796, 54)"
      ]
     },
     "execution_count": 3,
     "metadata": {},
     "output_type": "execute_result"
    }
   ],
   "source": [
    "learn_data.shape"
   ]
  },
  {
   "cell_type": "code",
   "execution_count": 4,
   "metadata": {},
   "outputs": [
    {
     "data": {
      "text/plain": [
       "Index(['Unnamed: 0', 'Unnamed: 0.1', 'fips', 'date', 'PRECTOT', 'PS', 'QV2M',\n",
       "       'T2M', 'T2MDEW', 'T2MWET', 'T2M_MAX', 'T2M_MIN', 'T2M_RANGE', 'TS',\n",
       "       'WS10M', 'WS10M_MAX', 'WS10M_MIN', 'WS10M_RANGE', 'WS50M', 'WS50M_MAX',\n",
       "       'WS50M_MIN', 'WS50M_RANGE', 'score', 'lat', 'lon', 'elevation',\n",
       "       'slope1', 'slope2', 'slope3', 'slope4', 'slope5', 'slope6', 'slope7',\n",
       "       'slope8', 'aspectN', 'aspectE', 'aspectS', 'aspectW', 'aspectUnknown',\n",
       "       'WAT_LAND', 'NVG_LAND', 'URB_LAND', 'GRS_LAND', 'FOR_LAND',\n",
       "       'CULTRF_LAND', 'CULTIR_LAND', 'CULT_LAND', 'SQ1', 'SQ2', 'SQ3', 'SQ4',\n",
       "       'SQ5', 'SQ6', 'SQ7'],\n",
       "      dtype='object')"
      ]
     },
     "execution_count": 4,
     "metadata": {},
     "output_type": "execute_result"
    }
   ],
   "source": [
    "learn_data.columns"
   ]
  },
  {
   "cell_type": "code",
   "execution_count": 5,
   "metadata": {},
   "outputs": [],
   "source": [
    "learn_data = learn_data[learn_data['date']>'2014-12-31']"
   ]
  },
  {
   "cell_type": "code",
   "execution_count": 6,
   "metadata": {},
   "outputs": [
    {
     "data": {
      "text/plain": [
       "(323232, 54)"
      ]
     },
     "execution_count": 6,
     "metadata": {},
     "output_type": "execute_result"
    }
   ],
   "source": [
    "learn_data.shape"
   ]
  },
  {
   "cell_type": "code",
   "execution_count": 7,
   "metadata": {},
   "outputs": [
    {
     "data": {
      "text/html": [
       "<div>\n",
       "<style scoped>\n",
       "    .dataframe tbody tr th:only-of-type {\n",
       "        vertical-align: middle;\n",
       "    }\n",
       "\n",
       "    .dataframe tbody tr th {\n",
       "        vertical-align: top;\n",
       "    }\n",
       "\n",
       "    .dataframe thead th {\n",
       "        text-align: right;\n",
       "    }\n",
       "</style>\n",
       "<table border=\"1\" class=\"dataframe\">\n",
       "  <thead>\n",
       "    <tr style=\"text-align: right;\">\n",
       "      <th></th>\n",
       "      <th>Unnamed: 0</th>\n",
       "      <th>Unnamed: 0.1</th>\n",
       "      <th>fips</th>\n",
       "      <th>date</th>\n",
       "      <th>PRECTOT</th>\n",
       "      <th>PS</th>\n",
       "      <th>QV2M</th>\n",
       "      <th>T2M</th>\n",
       "      <th>T2MDEW</th>\n",
       "      <th>T2MWET</th>\n",
       "      <th>...</th>\n",
       "      <th>CULTRF_LAND</th>\n",
       "      <th>CULTIR_LAND</th>\n",
       "      <th>CULT_LAND</th>\n",
       "      <th>SQ1</th>\n",
       "      <th>SQ2</th>\n",
       "      <th>SQ3</th>\n",
       "      <th>SQ4</th>\n",
       "      <th>SQ5</th>\n",
       "      <th>SQ6</th>\n",
       "      <th>SQ7</th>\n",
       "    </tr>\n",
       "  </thead>\n",
       "  <tbody>\n",
       "    <tr>\n",
       "      <th>783</th>\n",
       "      <td>5484</td>\n",
       "      <td>5484</td>\n",
       "      <td>1001</td>\n",
       "      <td>2015-01-06</td>\n",
       "      <td>0.00</td>\n",
       "      <td>101.26</td>\n",
       "      <td>3.79</td>\n",
       "      <td>3.75</td>\n",
       "      <td>-0.06</td>\n",
       "      <td>-0.04</td>\n",
       "      <td>...</td>\n",
       "      <td>56.293411</td>\n",
       "      <td>1.014811</td>\n",
       "      <td>57.308224</td>\n",
       "      <td>1</td>\n",
       "      <td>1</td>\n",
       "      <td>1</td>\n",
       "      <td>1</td>\n",
       "      <td>1</td>\n",
       "      <td>1</td>\n",
       "      <td>2</td>\n",
       "    </tr>\n",
       "    <tr>\n",
       "      <th>784</th>\n",
       "      <td>5491</td>\n",
       "      <td>5491</td>\n",
       "      <td>1001</td>\n",
       "      <td>2015-01-13</td>\n",
       "      <td>0.02</td>\n",
       "      <td>100.98</td>\n",
       "      <td>5.08</td>\n",
       "      <td>6.38</td>\n",
       "      <td>4.11</td>\n",
       "      <td>4.12</td>\n",
       "      <td>...</td>\n",
       "      <td>56.293411</td>\n",
       "      <td>1.014811</td>\n",
       "      <td>57.308224</td>\n",
       "      <td>1</td>\n",
       "      <td>1</td>\n",
       "      <td>1</td>\n",
       "      <td>1</td>\n",
       "      <td>1</td>\n",
       "      <td>1</td>\n",
       "      <td>2</td>\n",
       "    </tr>\n",
       "    <tr>\n",
       "      <th>785</th>\n",
       "      <td>5498</td>\n",
       "      <td>5498</td>\n",
       "      <td>1001</td>\n",
       "      <td>2015-01-20</td>\n",
       "      <td>0.00</td>\n",
       "      <td>100.11</td>\n",
       "      <td>6.57</td>\n",
       "      <td>10.13</td>\n",
       "      <td>7.62</td>\n",
       "      <td>7.62</td>\n",
       "      <td>...</td>\n",
       "      <td>56.293411</td>\n",
       "      <td>1.014811</td>\n",
       "      <td>57.308224</td>\n",
       "      <td>1</td>\n",
       "      <td>1</td>\n",
       "      <td>1</td>\n",
       "      <td>1</td>\n",
       "      <td>1</td>\n",
       "      <td>1</td>\n",
       "      <td>2</td>\n",
       "    </tr>\n",
       "    <tr>\n",
       "      <th>786</th>\n",
       "      <td>5505</td>\n",
       "      <td>5505</td>\n",
       "      <td>1001</td>\n",
       "      <td>2015-01-27</td>\n",
       "      <td>0.00</td>\n",
       "      <td>100.20</td>\n",
       "      <td>4.61</td>\n",
       "      <td>5.33</td>\n",
       "      <td>2.62</td>\n",
       "      <td>2.63</td>\n",
       "      <td>...</td>\n",
       "      <td>56.293411</td>\n",
       "      <td>1.014811</td>\n",
       "      <td>57.308224</td>\n",
       "      <td>1</td>\n",
       "      <td>1</td>\n",
       "      <td>1</td>\n",
       "      <td>1</td>\n",
       "      <td>1</td>\n",
       "      <td>1</td>\n",
       "      <td>2</td>\n",
       "    </tr>\n",
       "    <tr>\n",
       "      <th>787</th>\n",
       "      <td>5512</td>\n",
       "      <td>5512</td>\n",
       "      <td>1001</td>\n",
       "      <td>2015-02-03</td>\n",
       "      <td>0.00</td>\n",
       "      <td>101.17</td>\n",
       "      <td>3.01</td>\n",
       "      <td>1.41</td>\n",
       "      <td>-3.11</td>\n",
       "      <td>-3.06</td>\n",
       "      <td>...</td>\n",
       "      <td>56.293411</td>\n",
       "      <td>1.014811</td>\n",
       "      <td>57.308224</td>\n",
       "      <td>1</td>\n",
       "      <td>1</td>\n",
       "      <td>1</td>\n",
       "      <td>1</td>\n",
       "      <td>1</td>\n",
       "      <td>1</td>\n",
       "      <td>2</td>\n",
       "    </tr>\n",
       "  </tbody>\n",
       "</table>\n",
       "<p>5 rows × 54 columns</p>\n",
       "</div>"
      ],
      "text/plain": [
       "     Unnamed: 0  Unnamed: 0.1  fips        date  PRECTOT      PS  QV2M    T2M  \\\n",
       "783        5484          5484  1001  2015-01-06     0.00  101.26  3.79   3.75   \n",
       "784        5491          5491  1001  2015-01-13     0.02  100.98  5.08   6.38   \n",
       "785        5498          5498  1001  2015-01-20     0.00  100.11  6.57  10.13   \n",
       "786        5505          5505  1001  2015-01-27     0.00  100.20  4.61   5.33   \n",
       "787        5512          5512  1001  2015-02-03     0.00  101.17  3.01   1.41   \n",
       "\n",
       "     T2MDEW  T2MWET  ...  CULTRF_LAND  CULTIR_LAND  CULT_LAND  SQ1  SQ2  SQ3  \\\n",
       "783   -0.06   -0.04  ...    56.293411     1.014811  57.308224    1    1    1   \n",
       "784    4.11    4.12  ...    56.293411     1.014811  57.308224    1    1    1   \n",
       "785    7.62    7.62  ...    56.293411     1.014811  57.308224    1    1    1   \n",
       "786    2.62    2.63  ...    56.293411     1.014811  57.308224    1    1    1   \n",
       "787   -3.11   -3.06  ...    56.293411     1.014811  57.308224    1    1    1   \n",
       "\n",
       "     SQ4  SQ5  SQ6  SQ7  \n",
       "783    1    1    1    2  \n",
       "784    1    1    1    2  \n",
       "785    1    1    1    2  \n",
       "786    1    1    1    2  \n",
       "787    1    1    1    2  \n",
       "\n",
       "[5 rows x 54 columns]"
      ]
     },
     "execution_count": 7,
     "metadata": {},
     "output_type": "execute_result"
    }
   ],
   "source": [
    "learn_data.head()"
   ]
  },
  {
   "cell_type": "code",
   "execution_count": 29,
   "metadata": {},
   "outputs": [],
   "source": []
  },
  {
   "cell_type": "code",
   "execution_count": 30,
   "metadata": {},
   "outputs": [
    {
     "data": {
      "text/plain": [
       "(323232, 54)"
      ]
     },
     "execution_count": 30,
     "metadata": {},
     "output_type": "execute_result"
    }
   ],
   "source": []
  },
  {
   "cell_type": "code",
   "execution_count": 8,
   "metadata": {},
   "outputs": [],
   "source": [
    "learn_data = learn_data.drop(columns=['Unnamed: 0.1','Unnamed: 0', 'fips', 'date','aspectUnknown','CULT_LAND'])"
   ]
  },
  {
   "cell_type": "code",
   "execution_count": 44,
   "metadata": {},
   "outputs": [
    {
     "data": {
      "text/plain": [
       "(323232, 48)"
      ]
     },
     "execution_count": 44,
     "metadata": {},
     "output_type": "execute_result"
    }
   ],
   "source": [
    "learn_data.shape"
   ]
  },
  {
   "cell_type": "code",
   "execution_count": 9,
   "metadata": {},
   "outputs": [
    {
     "data": {
      "text/plain": [
       "Index(['PRECTOT', 'PS', 'QV2M', 'T2M', 'T2MDEW', 'T2MWET', 'T2M_MAX',\n",
       "       'T2M_MIN', 'T2M_RANGE', 'TS', 'WS10M', 'WS10M_MAX', 'WS10M_MIN',\n",
       "       'WS10M_RANGE', 'WS50M', 'WS50M_MAX', 'WS50M_MIN', 'WS50M_RANGE',\n",
       "       'score', 'lat', 'lon', 'elevation', 'slope1', 'slope2', 'slope3',\n",
       "       'slope4', 'slope5', 'slope6', 'slope7', 'slope8', 'aspectN', 'aspectE',\n",
       "       'aspectS', 'aspectW', 'WAT_LAND', 'NVG_LAND', 'URB_LAND', 'GRS_LAND',\n",
       "       'FOR_LAND', 'CULTRF_LAND', 'CULTIR_LAND', 'SQ1', 'SQ2', 'SQ3', 'SQ4',\n",
       "       'SQ5', 'SQ6', 'SQ7'],\n",
       "      dtype='object')"
      ]
     },
     "execution_count": 9,
     "metadata": {},
     "output_type": "execute_result"
    }
   ],
   "source": [
    "learn_data.columns"
   ]
  },
  {
   "cell_type": "code",
   "execution_count": 10,
   "metadata": {},
   "outputs": [],
   "source": [
    "learn_data['score'] = learn_data['score'].apply(np.floor)\n",
    "y_train = learn_data['score']\n",
    "learn_data=learn_data.drop(columns=['score'])"
   ]
  },
  {
   "cell_type": "code",
   "execution_count": 11,
   "metadata": {},
   "outputs": [],
   "source": [
    "scaler = StandardScaler()\n",
    "scaler.fit(learn_data)\n",
    "normalized_train_set = scaler.transform(learn_data)"
   ]
  },
  {
   "cell_type": "code",
   "execution_count": 12,
   "metadata": {},
   "outputs": [],
   "source": [
    "train_Set_1 = pd.DataFrame(data=normalized_train_set)"
   ]
  },
  {
   "cell_type": "code",
   "execution_count": 13,
   "metadata": {},
   "outputs": [
    {
     "data": {
      "text/plain": [
       "RangeIndex(start=0, stop=47, step=1)"
      ]
     },
     "execution_count": 13,
     "metadata": {},
     "output_type": "execute_result"
    }
   ],
   "source": [
    "train_Set_1.columns"
   ]
  },
  {
   "cell_type": "code",
   "execution_count": 14,
   "metadata": {},
   "outputs": [],
   "source": [
    "train_Set_1 = train_Set_1.drop(columns=[4,5,6,7,11,12,14,15,16,17,20,24,25,26,27,28,37,41,43,44,45,46])"
   ]
  },
  {
   "cell_type": "code",
   "execution_count": 15,
   "metadata": {},
   "outputs": [
    {
     "data": {
      "text/plain": [
       "(323232, 25)"
      ]
     },
     "execution_count": 15,
     "metadata": {},
     "output_type": "execute_result"
    }
   ],
   "source": [
    "train_Set_1.shape"
   ]
  },
  {
   "cell_type": "code",
   "execution_count": 16,
   "metadata": {},
   "outputs": [],
   "source": [
    "test_set = pd.read_csv('modeltesting.csv')\n",
    "val_set = pd.read_csv('modelvalidation.csv')"
   ]
  },
  {
   "cell_type": "code",
   "execution_count": 17,
   "metadata": {},
   "outputs": [],
   "source": [
    "test_set = test_set.drop(columns=['Unnamed: 0.1','Unnamed: 0', 'fips', 'date','aspectUnknown','CULT_LAND'])"
   ]
  },
  {
   "cell_type": "code",
   "execution_count": 18,
   "metadata": {},
   "outputs": [],
   "source": [
    "val_set = val_set.drop(columns=['Unnamed: 0.1','Unnamed: 0', 'fips', 'date','aspectUnknown','CULT_LAND'])"
   ]
  },
  {
   "cell_type": "code",
   "execution_count": 19,
   "metadata": {},
   "outputs": [
    {
     "data": {
      "text/plain": [
       "(326340, 25)"
      ]
     },
     "execution_count": 19,
     "metadata": {},
     "output_type": "execute_result"
    }
   ],
   "source": [
    "scaler = StandardScaler()\n",
    "scaler.fit(test_set)\n",
    "normalized_test_set = scaler.transform(test_set)\n",
    "test_set_1=pd.DataFrame(data=normalized_test_set)\n",
    "test_set_1 = test_set_1.drop(columns=[4,5,6,7,11,12,14,15,16,17,20,24,25,26,27,28,37,41,43,44,45,46])\n",
    "test_set_1.shape"
   ]
  },
  {
   "cell_type": "code",
   "execution_count": 20,
   "metadata": {},
   "outputs": [
    {
     "data": {
      "text/plain": [
       "(323232, 25)"
      ]
     },
     "execution_count": 20,
     "metadata": {},
     "output_type": "execute_result"
    }
   ],
   "source": [
    "scaler = StandardScaler()\n",
    "scaler.fit(val_set)\n",
    "normalized_val_set = scaler.transform(val_set)\n",
    "val_set_1=pd.DataFrame(data=normalized_val_set)\n",
    "val_set_1 = val_set_1.drop(columns=[4,5,6,7,11,12,14,15,16,17,20,24,25,26,27,28,37,41,43,44,45,46])\n",
    "val_set_1.shape"
   ]
  },
  {
   "cell_type": "code",
   "execution_count": 21,
   "metadata": {},
   "outputs": [],
   "source": [
    "y_test= pd.read_csv('modeltestingy.csv')\n",
    "y_val=pd.read_csv('modelvalidationy.csv')"
   ]
  },
  {
   "cell_type": "code",
   "execution_count": 22,
   "metadata": {},
   "outputs": [],
   "source": [
    "y_test = y_test.drop(columns=['Unnamed: 0'])\n",
    "y_val = y_val.drop(columns=['Unnamed: 0'])"
   ]
  },
  {
   "cell_type": "code",
   "execution_count": 23,
   "metadata": {},
   "outputs": [],
   "source": [
    "y_test = y_test.apply(np.floor)\n",
    "y_val = y_val.apply(np.floor)"
   ]
  },
  {
   "cell_type": "code",
   "execution_count": 24,
   "metadata": {},
   "outputs": [
    {
     "data": {
      "text/html": [
       "<div>\n",
       "<style scoped>\n",
       "    .dataframe tbody tr th:only-of-type {\n",
       "        vertical-align: middle;\n",
       "    }\n",
       "\n",
       "    .dataframe tbody tr th {\n",
       "        vertical-align: top;\n",
       "    }\n",
       "\n",
       "    .dataframe thead th {\n",
       "        text-align: right;\n",
       "    }\n",
       "</style>\n",
       "<table border=\"1\" class=\"dataframe\">\n",
       "  <thead>\n",
       "    <tr style=\"text-align: right;\">\n",
       "      <th></th>\n",
       "      <th>score</th>\n",
       "    </tr>\n",
       "  </thead>\n",
       "  <tbody>\n",
       "    <tr>\n",
       "      <th>0</th>\n",
       "      <td>0.0</td>\n",
       "    </tr>\n",
       "    <tr>\n",
       "      <th>1</th>\n",
       "      <td>0.0</td>\n",
       "    </tr>\n",
       "    <tr>\n",
       "      <th>2</th>\n",
       "      <td>0.0</td>\n",
       "    </tr>\n",
       "    <tr>\n",
       "      <th>3</th>\n",
       "      <td>0.0</td>\n",
       "    </tr>\n",
       "    <tr>\n",
       "      <th>4</th>\n",
       "      <td>0.0</td>\n",
       "    </tr>\n",
       "  </tbody>\n",
       "</table>\n",
       "</div>"
      ],
      "text/plain": [
       "   score\n",
       "0    0.0\n",
       "1    0.0\n",
       "2    0.0\n",
       "3    0.0\n",
       "4    0.0"
      ]
     },
     "execution_count": 24,
     "metadata": {},
     "output_type": "execute_result"
    }
   ],
   "source": [
    "y_test.head()"
   ]
  },
  {
   "cell_type": "code",
   "execution_count": 25,
   "metadata": {},
   "outputs": [
    {
     "data": {
      "text/plain": [
       "score\n",
       "0.0      266217\n",
       "1.0       34552\n",
       "2.0       16698\n",
       "3.0        6691\n",
       "4.0        1957\n",
       "5.0         225\n",
       "dtype: int64"
      ]
     },
     "execution_count": 25,
     "metadata": {},
     "output_type": "execute_result"
    }
   ],
   "source": [
    "y_test.value_counts()"
   ]
  },
  {
   "cell_type": "code",
   "execution_count": 26,
   "metadata": {},
   "outputs": [],
   "source": [
    "y_train=pd.DataFrame(data=y_train)"
   ]
  },
  {
   "cell_type": "code",
   "execution_count": 27,
   "metadata": {},
   "outputs": [],
   "source": [
    "y_test=pd.DataFrame(data=y_test)\n",
    "y_val=pd.DataFrame(data=y_val)"
   ]
  },
  {
   "cell_type": "code",
   "execution_count": null,
   "metadata": {},
   "outputs": [],
   "source": []
  },
  {
   "cell_type": "code",
   "execution_count": 71,
   "metadata": {},
   "outputs": [],
   "source": [
    "from sklearn.decomposition import PCA\n",
    "\n",
    "pca =PCA(n_components=8)\n",
    "reduced_x_train = pca.fit_transform(train_Set_1)"
   ]
  },
  {
   "cell_type": "code",
   "execution_count": 72,
   "metadata": {},
   "outputs": [],
   "source": [
    "reduced_x_test = pca.fit_transform(test_set_1)\n",
    "reduced_x_val = pca.fit_transform(val_set_1)"
   ]
  },
  {
   "cell_type": "markdown",
   "metadata": {},
   "source": [
    "# start the modelling"
   ]
  },
  {
   "cell_type": "markdown",
   "metadata": {},
   "source": [
    " x_train -> train_Set_1 ,\n",
    " y_train -> y_train\n",
    "\n",
    " x_test -> test_set_1 ,\n",
    " y_test -> y_test\n",
    "\n",
    " x_val -> val_set_1 ,\n",
    " y_val -> y_val"
   ]
  },
  {
   "cell_type": "code",
   "execution_count": 30,
   "metadata": {},
   "outputs": [],
   "source": [
    "from sklearn.neural_network import MLPClassifier\n",
    "\n",
    "import warnings\n",
    "warnings.filterwarnings('ignore')"
   ]
  },
  {
   "cell_type": "code",
   "execution_count": 109,
   "metadata": {},
   "outputs": [
    {
     "data": {
      "text/plain": [
       "MLPClassifier(activation='logistic', batch_size=3000,\n",
       "              hidden_layer_sizes=(10, 5, 3), max_iter=1, random_state=1,\n",
       "              verbose=True)"
      ]
     },
     "execution_count": 109,
     "metadata": {},
     "output_type": "execute_result"
    }
   ],
   "source": [
    "mlp=MLPClassifier(random_state=1, max_iter=1,verbose=True,\n",
    "                    hidden_layer_sizes=(10,5,3),batch_size=3000,learning_rate='constant',\n",
    "                    learning_rate_init=0.001,tol=1e-4,\n",
    "                    activation='logistic')\n",
    "mlp"
   ]
  },
  {
   "cell_type": "code",
   "execution_count": 104,
   "metadata": {
    "scrolled": true
   },
   "outputs": [
    {
     "name": "stdout",
     "output_type": "stream",
     "text": [
      "Iteration 1, loss = 1.53951180\n",
      "Iteration 2, loss = 1.05908680\n",
      "Iteration 3, loss = 0.90315261\n",
      "Iteration 4, loss = 0.86440192\n",
      "Iteration 5, loss = 0.84433673\n",
      "Iteration 6, loss = 0.83143171\n",
      "Iteration 7, loss = 0.82321576\n",
      "Iteration 8, loss = 0.81759908\n",
      "Iteration 9, loss = 0.81366874\n",
      "Iteration 10, loss = 0.81067318\n",
      "Iteration 11, loss = 0.80805577\n",
      "Iteration 12, loss = 0.80541796\n",
      "Iteration 13, loss = 0.80288458\n",
      "Iteration 14, loss = 0.80071491\n",
      "Iteration 15, loss = 0.79862447\n",
      "Iteration 16, loss = 0.79640854\n",
      "Iteration 17, loss = 0.79461446\n",
      "Iteration 18, loss = 0.79323556\n",
      "Iteration 19, loss = 0.79212344\n",
      "Iteration 20, loss = 0.79117609\n",
      "Iteration 21, loss = 0.79030821\n",
      "Iteration 22, loss = 0.78952097\n",
      "Iteration 23, loss = 0.78877982\n",
      "Iteration 24, loss = 0.78811767\n",
      "Iteration 25, loss = 0.78752244\n",
      "Iteration 26, loss = 0.78698534\n",
      "Iteration 27, loss = 0.78648091\n",
      "Iteration 28, loss = 0.78602126\n",
      "Iteration 29, loss = 0.78557888\n",
      "Iteration 30, loss = 0.78516810\n",
      "Iteration 31, loss = 0.78477100\n",
      "Iteration 32, loss = 0.78436480\n",
      "Iteration 33, loss = 0.78396203\n",
      "Iteration 34, loss = 0.78354793\n",
      "Iteration 35, loss = 0.78314936\n",
      "Iteration 36, loss = 0.78277584\n",
      "Iteration 37, loss = 0.78243086\n",
      "Iteration 38, loss = 0.78213007\n",
      "Iteration 39, loss = 0.78184840\n",
      "Iteration 40, loss = 0.78159353\n",
      "Iteration 41, loss = 0.78135052\n",
      "Iteration 42, loss = 0.78110950\n",
      "Iteration 43, loss = 0.78087505\n",
      "Iteration 44, loss = 0.78064555\n",
      "Iteration 45, loss = 0.78040718\n",
      "Iteration 46, loss = 0.78017591\n",
      "Iteration 47, loss = 0.77993816\n",
      "Iteration 48, loss = 0.77968537\n",
      "Iteration 49, loss = 0.77943323\n",
      "Iteration 50, loss = 0.77918300\n",
      "Iteration 51, loss = 0.77894667\n",
      "Iteration 52, loss = 0.77872582\n",
      "Iteration 53, loss = 0.77851084\n",
      "Iteration 54, loss = 0.77830546\n",
      "Iteration 55, loss = 0.77811421\n",
      "Iteration 56, loss = 0.77793358\n",
      "Iteration 57, loss = 0.77775729\n",
      "Iteration 58, loss = 0.77759635\n",
      "Iteration 59, loss = 0.77743165\n",
      "Iteration 60, loss = 0.77728209\n",
      "Iteration 61, loss = 0.77713298\n",
      "Iteration 62, loss = 0.77698659\n",
      "Iteration 63, loss = 0.77683598\n",
      "Iteration 64, loss = 0.77669688\n",
      "Iteration 65, loss = 0.77657000\n",
      "Iteration 66, loss = 0.77643615\n",
      "Iteration 67, loss = 0.77630420\n",
      "Iteration 68, loss = 0.77617542\n",
      "Iteration 69, loss = 0.77605156\n",
      "Iteration 70, loss = 0.77593459\n",
      "Iteration 71, loss = 0.77581198\n",
      "Iteration 72, loss = 0.77569946\n",
      "Iteration 73, loss = 0.77558092\n",
      "Iteration 74, loss = 0.77546480\n",
      "Iteration 75, loss = 0.77535226\n",
      "Iteration 76, loss = 0.77523772\n",
      "Iteration 77, loss = 0.77512866\n",
      "Iteration 78, loss = 0.77501426\n",
      "Iteration 79, loss = 0.77489800\n",
      "Iteration 80, loss = 0.77477645\n",
      "Iteration 81, loss = 0.77465408\n",
      "Iteration 82, loss = 0.77452416\n",
      "Iteration 83, loss = 0.77438158\n",
      "Iteration 84, loss = 0.77423003\n",
      "Iteration 85, loss = 0.77407162\n",
      "Iteration 86, loss = 0.77389765\n",
      "Iteration 87, loss = 0.77370107\n",
      "Iteration 88, loss = 0.77348117\n",
      "Iteration 89, loss = 0.77323937\n",
      "Iteration 90, loss = 0.77298968\n",
      "Iteration 91, loss = 0.77272904\n",
      "Iteration 92, loss = 0.77243992\n",
      "Iteration 93, loss = 0.77214442\n",
      "Iteration 94, loss = 0.77183517\n",
      "Iteration 95, loss = 0.77155067\n",
      "Iteration 96, loss = 0.77128683\n",
      "Iteration 97, loss = 0.77102601\n",
      "Iteration 98, loss = 0.77078206\n",
      "Iteration 99, loss = 0.77055068\n",
      "Iteration 100, loss = 0.77031581\n"
     ]
    },
    {
     "data": {
      "image/png": "[encoded data removed]",
      "text/plain": [
       "<Figure size 432x288 with 1 Axes>"
      ]
     },
     "metadata": {
      "needs_background": "light"
     },
     "output_type": "display_data"
    }
   ],
   "source": [
    "from sklearn.metrics import log_loss\n",
    "\n",
    "training_loss=[]\n",
    "validation_loss=[]\n",
    "for i in range(100):\n",
    "    mlp.partial_fit(reduced_x_train,y_train,classes = np.unique(y_train))\n",
    "    train_proba = mlp.predict_proba(reduced_x_train)\n",
    "    training_loss.append(log_loss(y_train,train_proba))\n",
    "    probabilities = mlp.predict_proba(reduced_x_val)\n",
    "    validation_loss.append(log_loss(y_val,probabilities))\n",
    "    # print(training_loss)\n",
    "    # print(validation_loss)\n",
    "plt.plot(training_loss,label='training_loss')\n",
    "plt.plot(validation_loss,label='validation_loss')\n",
    "plt.legend()\n",
    "plt.show()"
   ]
  },
  {
   "cell_type": "code",
   "execution_count": 110,
   "metadata": {},
   "outputs": [
    {
     "name": "stdout",
     "output_type": "stream",
     "text": [
      "Iteration 1, loss = 1.52185550\n"
     ]
    },
    {
     "data": {
      "text/plain": [
       "MLPClassifier(activation='logistic', batch_size=3000,\n",
       "              hidden_layer_sizes=(10, 5, 3), max_iter=1, random_state=1,\n",
       "              verbose=True)"
      ]
     },
     "execution_count": 110,
     "metadata": {},
     "output_type": "execute_result"
    }
   ],
   "source": [
    "mlp.fit(reduced_x_train,y_train)"
   ]
  },
  {
   "cell_type": "code",
   "execution_count": 111,
   "metadata": {},
   "outputs": [],
   "source": [
    "pred=mlp.predict(reduced_x_train)"
   ]
  },
  {
   "cell_type": "code",
   "execution_count": 112,
   "metadata": {},
   "outputs": [
    {
     "data": {
      "text/plain": [
       "array([[240431,      0,      0,      0,      0,      0],\n",
       "       [ 47640,      0,      0,      0,      0,      0],\n",
       "       [ 18914,      0,      0,      0,      0,      0],\n",
       "       [  9331,      0,      0,      0,      0,      0],\n",
       "       [  4982,      0,      0,      0,      0,      0],\n",
       "       [  1934,      0,      0,      0,      0,      0]], dtype=int64)"
      ]
     },
     "execution_count": 112,
     "metadata": {},
     "output_type": "execute_result"
    }
   ],
   "source": [
    "from sklearn.metrics import classification_report , confusion_matrix\n",
    "\n",
    "confusion_matrix(y_train,pred)"
   ]
  },
  {
   "cell_type": "code",
   "execution_count": 113,
   "metadata": {},
   "outputs": [
    {
     "name": "stdout",
     "output_type": "stream",
     "text": [
      "              precision    recall  f1-score   support\n",
      "\n",
      "         0.0       0.74      1.00      0.85    240431\n",
      "         1.0       0.00      0.00      0.00     47640\n",
      "         2.0       0.00      0.00      0.00     18914\n",
      "         3.0       0.00      0.00      0.00      9331\n",
      "         4.0       0.00      0.00      0.00      4982\n",
      "         5.0       0.00      0.00      0.00      1934\n",
      "\n",
      "    accuracy                           0.74    323232\n",
      "   macro avg       0.12      0.17      0.14    323232\n",
      "weighted avg       0.55      0.74      0.63    323232\n",
      "\n"
     ]
    }
   ],
   "source": [
    "print(classification_report(y_train,pred))"
   ]
  },
  {
   "cell_type": "markdown",
   "metadata": {},
   "source": [
    "# Naive Bayes\n"
   ]
  },
  {
   "cell_type": "code",
   "execution_count": null,
   "metadata": {},
   "outputs": [],
   "source": []
  }
 ],
 "metadata": {
  "kernelspec": {
   "display_name": "Python 3",
   "language": "python",
   "name": "python3"
  },
  "language_info": {
   "codemirror_mode": {
    "name": "ipython",
    "version": 3
   },
   "file_extension": ".py",
   "mimetype": "text/x-python",
   "name": "python",
   "nbconvert_exporter": "python",
   "pygments_lexer": "ipython3",
   "version": "3.8.5"
  }
 },
 "nbformat": 4,
 "nbformat_minor": 4
}
